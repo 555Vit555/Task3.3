{
 "cells": [
  {
   "cell_type": "code",
   "execution_count": 3,
   "id": "7f210298",
   "metadata": {},
   "outputs": [],
   "source": [
    "import pyspark\n",
    "from pyspark.sql.types import *\n",
    "from typing import List\n",
    "from pyspark.sql import SQLContext\n",
    "from pyspark.context import SparkContext    \n",
    "    "
   ]
  },
  {
   "cell_type": "code",
   "execution_count": 29,
   "id": "42dda35d",
   "metadata": {},
   "outputs": [],
   "source": [
    "from pyspark.sql import SparkSession\n",
    "from pyspark import SparkConf, SparkContext\n",
    "\n",
    "import pyspark.sql.types as T\n",
    "import pyspark.sql.functions as F\n",
    "\n",
    "from datetime import datetime"
   ]
  },
  {
   "cell_type": "code",
   "execution_count": 30,
   "id": "c1adb99f",
   "metadata": {},
   "outputs": [
    {
     "name": "stdout",
     "output_type": "stream",
     "text": [
      "Запущен Spark версии 3.3.1\n"
     ]
    }
   ],
   "source": [
    "spark = SparkSession.\\\n",
    "        builder.\\\n",
    "        appName(\"Task3.3\").\\\n",
    "        config(\"spark.driver.bindAddress\", \"localhost\").\\\n",
    "        config(\"spark.executor.memory\", \"8024m\").\\\n",
    "        config(\"spark.ui.port\", \"4040\").\\\n",
    "        getOrCreate()   \n",
    "print('Запущен Spark версии', spark.version)"
   ]
  },
  {
   "cell_type": "code",
   "execution_count": null,
   "id": "f9c27543",
   "metadata": {},
   "outputs": [],
   "source": [
    "\n"
   ]
  },
  {
   "cell_type": "code",
   "execution_count": null,
   "id": "bab9b862",
   "metadata": {},
   "outputs": [],
   "source": []
  },
  {
   "cell_type": "code",
   "execution_count": null,
   "id": "7c4e2b65",
   "metadata": {},
   "outputs": [],
   "source": []
  },
  {
   "cell_type": "code",
   "execution_count": 31,
   "id": "a8baaef8",
   "metadata": {},
   "outputs": [],
   "source": [
    "# создаем схему для дата фрейма\n",
    "schema = StructType([StructField('id', IntegerType(), True),\n",
    "              StructField('timestamp', LongType(), True),\n",
    "              StructField('type', StringType(), True),\n",
    "              StructField('page_id', IntegerType(), True),\n",
    "              StructField('tag', StringType(), True),\n",
    "              StructField('sign', BooleanType(), True)                    \n",
    "             ])"
   ]
  },
  {
   "cell_type": "code",
   "execution_count": null,
   "id": "cf10c2aa",
   "metadata": {},
   "outputs": [],
   "source": []
  },
  {
   "cell_type": "code",
   "execution_count": 32,
   "id": "dcd0f5ae",
   "metadata": {},
   "outputs": [],
   "source": [
    "# список\n",
    "data = [(1, 1627314601, \"click\", 1,\"politic\", True),\n",
    "        (2, 1627314602, \"scroll\",2,\"medicina\", False),\n",
    "        (1, 1627314603, \"move\",3,\"sport\",True),\n",
    "        (1, 1627314604, \"click\",4,\"sport\",False),\n",
    "        (2, 1627314605, \"click\", 5,\"politic\", True),\n",
    "        (2, 1627314606, \"scroll\",6,\"medicina\", False),\n",
    "        (1, 1627314607, \"move\",7,\"sport\",True),\n",
    "        (3, 1627314608, \"click\",8,\"sport\",False),\n",
    "        (3, 1627314609, \"scroll\",9,\"medicina\", False),\n",
    "        (1, 1627314610, \"move\",10,\"sport\",True),\n",
    "        (2, 16273146011, \"click\",11,\"sport\",True),\n",
    "        (4, 16273146012, \"click\", 12,\"politic\", True)]\n",
    "         "
   ]
  },
  {
   "cell_type": "code",
   "execution_count": null,
   "id": "f01e0b7b",
   "metadata": {},
   "outputs": [],
   "source": [
    "\n"
   ]
  },
  {
   "cell_type": "code",
   "execution_count": 33,
   "id": "be0d605a",
   "metadata": {},
   "outputs": [],
   "source": [
    "# создаем дата фрейм\n",
    "df = spark.createDataFrame(data = data,schema = schema)\n",
    "# print(df.schema)"
   ]
  },
  {
   "cell_type": "code",
   "execution_count": 34,
   "id": "fb15f369",
   "metadata": {},
   "outputs": [
    {
     "name": "stdout",
     "output_type": "stream",
     "text": [
      "root\n",
      " |-- id: integer (nullable = true)\n",
      " |-- timestamp: long (nullable = true)\n",
      " |-- type: string (nullable = true)\n",
      " |-- page_id: integer (nullable = true)\n",
      " |-- tag: string (nullable = true)\n",
      " |-- sign: boolean (nullable = true)\n",
      "\n"
     ]
    }
   ],
   "source": [
    "df.printSchema()"
   ]
  },
  {
   "cell_type": "code",
   "execution_count": 35,
   "id": "6be725bc",
   "metadata": {},
   "outputs": [
    {
     "name": "stdout",
     "output_type": "stream",
     "text": [
      "+---+----------+------+-------+--------+-----+\n",
      "| id| timestamp|  type|page_id|     tag| sign|\n",
      "+---+----------+------+-------+--------+-----+\n",
      "|  1|1627314601| click|      1| politic| true|\n",
      "|  2|1627314602|scroll|      2|medicina|false|\n",
      "|  1|1627314603|  move|      3|   sport| true|\n",
      "|  1|1627314604| click|      4|   sport|false|\n",
      "|  2|1627314605| click|      5| politic| true|\n",
      "+---+----------+------+-------+--------+-----+\n",
      "only showing top 5 rows\n",
      "\n"
     ]
    }
   ],
   "source": [
    "df.show(5)"
   ]
  },
  {
   "cell_type": "code",
   "execution_count": 36,
   "id": "f54c2228",
   "metadata": {},
   "outputs": [
    {
     "name": "stdout",
     "output_type": "stream",
     "text": [
      "+---+-----+\n",
      "| id|count|\n",
      "+---+-----+\n",
      "|  1|    5|\n",
      "|  2|    4|\n",
      "|  3|    2|\n",
      "|  4|    1|\n",
      "+---+-----+\n",
      "\n"
     ]
    }
   ],
   "source": [
    " #Вывести топ-5 самых активных посетителей сайта\n",
    "df.groupby(\"id\").count().orderBy(\"count\",ascending=False).show(5)\n",
    "    "
   ]
  },
  {
   "cell_type": "code",
   "execution_count": 37,
   "id": "3b46c786",
   "metadata": {},
   "outputs": [
    {
     "name": "stdout",
     "output_type": "stream",
     "text": [
      "58.333333333333336 %\n"
     ]
    }
   ],
   "source": [
    "# Посчитать процент посетителей, у которых есть ЛК\n",
    "percent = 100/(df.count()/df.filter(df.sign==True).count())\n",
    "print(percent,'%')"
   ]
  },
  {
   "cell_type": "code",
   "execution_count": 38,
   "id": "a1633c59",
   "metadata": {},
   "outputs": [
    {
     "name": "stdout",
     "output_type": "stream",
     "text": [
      "+-------+-----+\n",
      "|page_id|count|\n",
      "+-------+-----+\n",
      "|      1|    1|\n",
      "|      4|    1|\n",
      "|      5|    1|\n",
      "|      8|    1|\n",
      "|     11|    1|\n",
      "+-------+-----+\n",
      "only showing top 5 rows\n",
      "\n"
     ]
    }
   ],
   "source": [
    "# Вывести топ-5 страниц сайта по показателю общего кол-ва кликов на данной странице\n",
    "df_click = df.filter(df.type==\"click\")\n",
    "df_click.groupBy(\"page_id\").count().orderBy(\"count\",ascending=False).show(5)"
   ]
  },
  {
   "cell_type": "code",
   "execution_count": 39,
   "id": "2a5308d8",
   "metadata": {},
   "outputs": [],
   "source": [
    "#добавлеям новый столбец с нормальными датами\n",
    "df = df.select(*[i for i in df.columns if i != \"timestamp\"],\n",
    "                 F.from_unixtime(\"timestamp\").alias(\"event_time\"))"
   ]
  },
  {
   "cell_type": "code",
   "execution_count": 40,
   "id": "0df4a176",
   "metadata": {},
   "outputs": [
    {
     "name": "stdout",
     "output_type": "stream",
     "text": [
      "+---+------+-------+--------+-----+-------------------+\n",
      "| id|  type|page_id|     tag| sign|         event_time|\n",
      "+---+------+-------+--------+-----+-------------------+\n",
      "|  1| click|      1| politic| true|2021-07-26 22:50:01|\n",
      "|  2|scroll|      2|medicina|false|2021-07-26 22:50:02|\n",
      "|  1|  move|      3|   sport| true|2021-07-26 22:50:03|\n",
      "|  1| click|      4|   sport|false|2021-07-26 22:50:04|\n",
      "|  2| click|      5| politic| true|2021-07-26 22:50:05|\n",
      "+---+------+-------+--------+-----+-------------------+\n",
      "only showing top 5 rows\n",
      "\n"
     ]
    }
   ],
   "source": [
    "df.show(5)"
   ]
  },
  {
   "cell_type": "code",
   "execution_count": 42,
   "id": "cc67686e",
   "metadata": {},
   "outputs": [
    {
     "name": "stdout",
     "output_type": "stream",
     "text": [
      "+---+------+-------+--------+-----+-------------------+---+\n",
      "| id|  type|page_id|     tag| sign|         event_time|new|\n",
      "+---+------+-------+--------+-----+-------------------+---+\n",
      "|  1| click|      1| politic| true|2021-07-26 22:50:01|  5|\n",
      "|  2|scroll|      2|medicina|false|2021-07-26 22:50:02|  5|\n",
      "|  1|  move|      3|   sport| true|2021-07-26 22:50:03|  5|\n",
      "|  1| click|      4|   sport|false|2021-07-26 22:50:04|  5|\n",
      "|  2| click|      5| politic| true|2021-07-26 22:50:05|  5|\n",
      "|  2|scroll|      6|medicina|false|2021-07-26 22:50:06|  5|\n",
      "|  1|  move|      7|   sport| true|2021-07-26 22:50:07|  5|\n",
      "|  3| click|      8|   sport|false|2021-07-26 22:50:08|  5|\n",
      "|  3|scroll|      9|medicina|false|2021-07-26 22:50:09|  5|\n",
      "|  1|  move|     10|   sport| true|2021-07-26 22:50:10|  5|\n",
      "|  2| click|     11|   sport| true|2485-09-03 21:20:11|  5|\n",
      "|  4| click|     12| politic| true|2485-09-03 21:20:12|  5|\n",
      "+---+------+-------+--------+-----+-------------------+---+\n",
      "\n"
     ]
    }
   ],
   "source": [
    "#Добавьте столбец к фрейму данных со значением временного диапазона в рамках суток \n",
    "#с размером окна – 4 часа(0-4, 4-8, 8-12 и т.д.)\n",
    "dfTime = df.withColumn(\"new\",F.floor(F.hour(\"event_time\") / F.lit(4)))\n",
    "dfTime.show(12)"
   ]
  },
  {
   "cell_type": "code",
   "execution_count": 44,
   "id": "1306ecda",
   "metadata": {},
   "outputs": [
    {
     "name": "stderr",
     "output_type": "stream",
     "text": [
      "C:\\spark-3.3.1-bin-hadoop3\\python\\pyspark\\sql\\dataframe.py:229: FutureWarning: Deprecated in 2.0, use createOrReplaceTempView instead.\n",
      "  warnings.warn(\"Deprecated in 2.0, use createOrReplaceTempView instead.\", FutureWarning)\n"
     ]
    },
    {
     "name": "stdout",
     "output_type": "stream",
     "text": [
      "+---+\n",
      "|new|\n",
      "+---+\n",
      "|  5|\n",
      "+---+\n",
      "\n"
     ]
    }
   ],
   "source": [
    "# Выведите временной промежуток на основе предыдущего задания, в течение которого было больше всего активностей на сайте.\n",
    "# cгруппируем результаты таблицы предыдущего задания по значениям столбца new\n",
    "df2 = dfTime.groupby(\"new\")\\\n",
    "    .agg(F.count(\"*\").alias(\"event_count\"))\\\n",
    "    .orderBy(\"event_count\",ascending=False)\n",
    "df2.registerTempTable(\"df_table\")\n",
    "spark.sql(\"SELECT new FROM df_table WHERE event_count = (SELECT MAX(event_count) FROM df_table)\").show()"
   ]
  },
  {
   "cell_type": "code",
   "execution_count": null,
   "id": "1853a4a6",
   "metadata": {},
   "outputs": [],
   "source": [
    "#Создайте второй фрейм данных, который будет содержать информацию о ЛК посетителя сайта со следующим списком атрибутов\n",
    "# 1. Id – уникальный идентификатор личного кабинета\n",
    "# 2. User_id – уникальный идентификатор посетителя\n",
    "# 3. ФИО посетителя\n",
    "# 4. Дату рождения посетителя \n",
    "# 5. Дата создания ЛК\n",
    "\n"
   ]
  },
  {
   "cell_type": "code",
   "execution_count": 45,
   "id": "077d9930",
   "metadata": {},
   "outputs": [],
   "source": [
    " #cтруктура таблицы личного кабинета\n",
    "esquemaAreaPersonal = T.StructType([\n",
    "    T.StructField(\"id\", T.IntegerType(),True),\n",
    "    T.StructField(\"user_id\", T.IntegerType(),True),\n",
    "    T.StructField(\"fio\", T.StringType(),True),\n",
    "    T.StructField(\"dbd\", T.DateType(),True),\n",
    "    T.StructField(\"dpa\", T.DateType(),True),\n",
    "])"
   ]
  },
  {
   "cell_type": "code",
   "execution_count": 48,
   "id": "e5923f11",
   "metadata": {},
   "outputs": [],
   "source": [
    "# заполним данными\n",
    "from datetime import datetime\n",
    "data_ap = [\n",
    "    (101,1,\"Иванов Иван Иванович\",datetime.strptime(\"2002-06-06\", \"%Y-%m-%d\"),datetime.strptime(\"2021-07-26\", \"%Y-%m-%d\")),\n",
    "    (102,2,\"Петров Петр Петович\",datetime.strptime(\"2003-07-07\", \"%Y-%m-%d\"),datetime.strptime(\"2021-07-26\", \"%Y-%m-%d\")),\n",
    "    (105,3,\"Сидоров Сидр Сидорович\",datetime.strptime(\"2004-08-08\", \"%Y-%m-%d\"),datetime.strptime(\"2021-11-23\", \"%Y-%m-%d\"))\n",
    "]\n",
    "#Создаем дата фрейм\n",
    "df_ap = spark.createDataFrame(data = data_ap, schema = esquemaAreaPersonal)"
   ]
  },
  {
   "cell_type": "code",
   "execution_count": 49,
   "id": "26336b01",
   "metadata": {},
   "outputs": [
    {
     "name": "stdout",
     "output_type": "stream",
     "text": [
      "+---+-------+--------------------+----------+----------+\n",
      "| id|user_id|                 fio|       dbd|       dpa|\n",
      "+---+-------+--------------------+----------+----------+\n",
      "|101|      1|Иванов Иван Иванович|2002-06-06|2021-07-26|\n",
      "|102|      2| Петров Петр Петович|2003-07-07|2021-07-26|\n",
      "|105|      3|Сидоров Сидр Сидо...|2004-08-08|2021-11-23|\n",
      "+---+-------+--------------------+----------+----------+\n",
      "\n"
     ]
    }
   ],
   "source": [
    "# таблица по личным кабинетам\n",
    "df_ap.show()"
   ]
  },
  {
   "cell_type": "code",
   "execution_count": 50,
   "id": "f9bb5cbd",
   "metadata": {},
   "outputs": [],
   "source": [
    " #объединенная таблица\n",
    "df_main = df_ap.alias(\"lk\").join(dfTime.alias(\"web\"),\n",
    "                               on = [F.col(\"lk.user_id\")==F.col(\"web.id\")],\n",
    "                               how = \"left\")"
   ]
  },
  {
   "cell_type": "code",
   "execution_count": 51,
   "id": "9d2af372",
   "metadata": {},
   "outputs": [
    {
     "name": "stdout",
     "output_type": "stream",
     "text": [
      "+---+-------+--------------------+----------+----------+---+------+-------+--------+-----+-------------------+---+\n",
      "| id|user_id|                 fio|       dbd|       dpa| id|  type|page_id|     tag| sign|         event_time|new|\n",
      "+---+-------+--------------------+----------+----------+---+------+-------+--------+-----+-------------------+---+\n",
      "|101|      1|Иванов Иван Иванович|2002-06-06|2021-07-26|  1|  move|     10|   sport| true|2021-07-26 22:50:10|  5|\n",
      "|101|      1|Иванов Иван Иванович|2002-06-06|2021-07-26|  1|  move|      7|   sport| true|2021-07-26 22:50:07|  5|\n",
      "|101|      1|Иванов Иван Иванович|2002-06-06|2021-07-26|  1| click|      4|   sport|false|2021-07-26 22:50:04|  5|\n",
      "|101|      1|Иванов Иван Иванович|2002-06-06|2021-07-26|  1|  move|      3|   sport| true|2021-07-26 22:50:03|  5|\n",
      "|101|      1|Иванов Иван Иванович|2002-06-06|2021-07-26|  1| click|      1| politic| true|2021-07-26 22:50:01|  5|\n",
      "|102|      2| Петров Петр Петович|2003-07-07|2021-07-26|  2| click|     11|   sport| true|2485-09-03 21:20:11|  5|\n",
      "|102|      2| Петров Петр Петович|2003-07-07|2021-07-26|  2|scroll|      6|medicina|false|2021-07-26 22:50:06|  5|\n",
      "|102|      2| Петров Петр Петович|2003-07-07|2021-07-26|  2| click|      5| politic| true|2021-07-26 22:50:05|  5|\n",
      "|102|      2| Петров Петр Петович|2003-07-07|2021-07-26|  2|scroll|      2|medicina|false|2021-07-26 22:50:02|  5|\n",
      "|105|      3|Сидоров Сидр Сидо...|2004-08-08|2021-11-23|  3|scroll|      9|medicina|false|2021-07-26 22:50:09|  5|\n",
      "|105|      3|Сидоров Сидр Сидо...|2004-08-08|2021-11-23|  3| click|      8|   sport|false|2021-07-26 22:50:08|  5|\n",
      "+---+-------+--------------------+----------+----------+---+------+-------+--------+-----+-------------------+---+\n",
      "\n"
     ]
    }
   ],
   "source": [
    "df_main.show()"
   ]
  },
  {
   "cell_type": "code",
   "execution_count": 53,
   "id": "c227c607",
   "metadata": {},
   "outputs": [
    {
     "name": "stdout",
     "output_type": "stream",
     "text": [
      "+--------------------+\n",
      "|                 fio|\n",
      "+--------------------+\n",
      "|Иванов Иван Иванович|\n",
      "+--------------------+\n",
      "\n"
     ]
    }
   ],
   "source": [
    "#Вывести фамилии посетителей, которые читали хотя бы одну новость про спорт.\n",
    "df_main.registerTempTable(\"df_table\")\n",
    "spark.sql(\"SELECT DISTINCT fio FROM df_table WHERE tag = 'sport' AND type = 'move'\").show()"
   ]
  },
  {
   "cell_type": "code",
   "execution_count": null,
   "id": "40ba4652",
   "metadata": {},
   "outputs": [],
   "source": []
  }
 ],
 "metadata": {
  "kernelspec": {
   "display_name": "Python 3 (ipykernel)",
   "language": "python",
   "name": "python3"
  },
  "language_info": {
   "codemirror_mode": {
    "name": "ipython",
    "version": 3
   },
   "file_extension": ".py",
   "mimetype": "text/x-python",
   "name": "python",
   "nbconvert_exporter": "python",
   "pygments_lexer": "ipython3",
   "version": "3.9.15"
  }
 },
 "nbformat": 4,
 "nbformat_minor": 5
}
